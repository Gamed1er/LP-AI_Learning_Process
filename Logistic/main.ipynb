{
 "cells": [
  {
   "cell_type": "markdown",
   "metadata": {},
   "source": [
    "# 說明\n",
    "- 本程式是用來建立一個模型，目的是做到輸入鮑魚的體重 / 體長來預測鮑魚性別"
   ]
  },
  {
   "cell_type": "code",
   "execution_count": 2,
   "metadata": {},
   "outputs": [],
   "source": [
    "import pandas as pd\n",
    "from sklearn.model_selection import train_test_split\n",
    "from sklearn.linear_model import LogisticRegression\n",
    "from sklearn.preprocessing import LabelEncoder"
   ]
  },
  {
   "cell_type": "code",
   "execution_count": 3,
   "metadata": {},
   "outputs": [
    {
     "name": "stdout",
     "output_type": "stream",
     "text": [
      "  Sex  Length  Diameter  Height  Whole_weight  Shucked_weight  Viscera_weight  \\\n",
      "0   M   0.455     0.365   0.095        0.5140          0.2245          0.1010   \n",
      "1   M   0.350     0.265   0.090        0.2255          0.0995          0.0485   \n",
      "2   F   0.530     0.420   0.135        0.6770          0.2565          0.1415   \n",
      "3   M   0.440     0.365   0.125        0.5160          0.2155          0.1140   \n",
      "4   I   0.330     0.255   0.080        0.2050          0.0895          0.0395   \n",
      "\n",
      "   Shell_weight  Class_number_of_rings  \n",
      "0         0.150                     15  \n",
      "1         0.070                      7  \n",
      "2         0.210                      9  \n",
      "3         0.155                     10  \n",
      "4         0.055                      7  \n"
     ]
    }
   ],
   "source": [
    "# 讀取 csv 檔案\n",
    "file_path = \"abalone.csv\"\n",
    "df = pd.read_csv(file_path)\n",
    "\n",
    "# 移除不必要的檔案\n",
    "df_filtered = df[df['Sex'].isin(['M', 'I', 'F'])]\n",
    "print(df.head()) "
   ]
  },
  {
   "cell_type": "code",
   "execution_count": 4,
   "metadata": {},
   "outputs": [],
   "source": [
    "# 選擇特徵\n",
    "X = df_filtered[['Shucked_weight','Shell_weight']]\n",
    "y = LabelEncoder().fit_transform(df_filtered['Sex'])  # M -> 0, F -> 1"
   ]
  },
  {
   "cell_type": "code",
   "execution_count": 5,
   "metadata": {},
   "outputs": [
    {
     "name": "stdout",
     "output_type": "stream",
     "text": [
      "模型準確度: 0.55\n"
     ]
    }
   ],
   "source": [
    "# 建立測試資料\n",
    "X_train, X_test, y_train, y_test = train_test_split(X, y, test_size=0.2, random_state=40)\n",
    "\n",
    "# 建立模型\n",
    "model = LogisticRegression()\n",
    "model.fit(X_train, y_train)\n",
    "\n",
    "# 計算模型準確度\n",
    "accuracy = model.score(X_test, y_test)\n",
    "print(f\"模型準確度: {accuracy:.2f}\")"
   ]
  },
  {
   "cell_type": "code",
   "execution_count": 8,
   "metadata": {},
   "outputs": [
    {
     "name": "stdout",
     "output_type": "stream",
     "text": [
      "去殼重量 : 0.36457\n",
      "殼重量 : 0.127647\n",
      "預測性別為 : Infact (I)\n"
     ]
    },
    {
     "name": "stderr",
     "output_type": "stream",
     "text": [
      "c:\\Users\\eric2\\AppData\\Local\\Programs\\Python\\Python310\\lib\\site-packages\\sklearn\\base.py:465: UserWarning: X does not have valid feature names, but LogisticRegression was fitted with feature names\n",
      "  warnings.warn(\n"
     ]
    }
   ],
   "source": [
    "# 預測函式\n",
    "def predict_sex(length, weight):\n",
    "    \"\"\"根據輸入的體長與體重，預測鮑魚的性別\"\"\"\n",
    "    prediction = model.predict([[length, weight]])\n",
    "    if prediction[0] == 0:\n",
    "        return 'Male (M)' \n",
    "    elif prediction[0] == 1:\n",
    "        return 'Infact (I)'\n",
    "    else:\n",
    "        return \"Female (F)\"\n",
    "\n",
    "length_input = float(input(\"請輸入去殼重量 : \"))\n",
    "weight_input = float(input(\"請輸入殼重量 : \"))\n",
    "result = predict_sex(length_input, weight_input)\n",
    "print(f\"去殼重量 : {length_input}\\n殼重量 : {weight_input}\\n預測性別為 : {result}\")"
   ]
  }
 ],
 "metadata": {
  "kernelspec": {
   "display_name": "Python 3",
   "language": "python",
   "name": "python3"
  },
  "language_info": {
   "codemirror_mode": {
    "name": "ipython",
    "version": 3
   },
   "file_extension": ".py",
   "mimetype": "text/x-python",
   "name": "python",
   "nbconvert_exporter": "python",
   "pygments_lexer": "ipython3",
   "version": "3.10.6"
  }
 },
 "nbformat": 4,
 "nbformat_minor": 2
}
